{
 "cells": [
  {
   "cell_type": "code",
   "execution_count": 5,
   "id": "d6290c44",
   "metadata": {},
   "outputs": [],
   "source": [
    "import os"
   ]
  },
  {
   "cell_type": "code",
   "execution_count": 6,
   "id": "580c1585",
   "metadata": {},
   "outputs": [
    {
     "name": "stdout",
     "output_type": "stream",
     "text": [
      "['t: 29.587561\\n', 'h: 400769.50']\n",
      "['time: 28.865356\\n', 'h: 420384.5']\n",
      "['t: 29.975616\\n', 'h: 385543.0']\n",
      "['time: 29.279123\\n', 'h: 400835.0']\n",
      "['t: 29.664196\\n', 'h: 407016.5']\n",
      "['time: 28.852352\\n', 'h: 394650.0']\n",
      "['time: 29.347012\\n', 'h: 393920.0']\n",
      "['time: 29.979171\\n', 'h: 406845.00']\n",
      "['time: 29.089972\\n', 'h: 392656.5']\n",
      "['time: 28.530736\\t\\n', 'h: 400256.5']\n",
      "time:  29.317109499999997\n",
      "hip_vol:  400287.65\n"
     ]
    }
   ],
   "source": [
    "seeds = [\"0.00042\", \"0.123\", \"0.00123\", \"0.00777\", \"0.00999\", \"0.02024\", \"0.08888\", \"0.27182\", \"0.31415\", \"0.98765\"]\n",
    "\n",
    "\n",
    "\n",
    "t = 0\n",
    "h = 0\n",
    "\n",
    "for seed in seeds:\n",
    "\n",
    "\n",
    "    file_path = os.path.join(seed, \"time.txt\")\n",
    "    f = open(file_path, \"r\")\n",
    "\n",
    "\n",
    "    lines = f.readlines()\n",
    "    print(lines)\n",
    "\n",
    "    t += float(lines[0].strip().split()[1])\n",
    "    h += float(lines[1].strip().split()[1])\n",
    "    \n",
    "\n",
    "print(\"time: \", t/10.0)\n",
    "print(\"hip_vol: \", h/10.0)\n"
   ]
  }
 ],
 "metadata": {
  "kernelspec": {
   "display_name": "Python 3",
   "language": "python",
   "name": "python3"
  },
  "language_info": {
   "codemirror_mode": {
    "name": "ipython",
    "version": 3
   },
   "file_extension": ".py",
   "mimetype": "text/x-python",
   "name": "python",
   "nbconvert_exporter": "python",
   "pygments_lexer": "ipython3",
   "version": "3.13.3"
  }
 },
 "nbformat": 4,
 "nbformat_minor": 5
}
