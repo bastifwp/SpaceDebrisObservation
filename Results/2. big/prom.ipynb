{
 "cells": [
  {
   "cell_type": "code",
   "execution_count": 1,
   "id": "d6290c44",
   "metadata": {},
   "outputs": [],
   "source": [
    "import os"
   ]
  },
  {
   "cell_type": "code",
   "execution_count": 2,
   "id": "580c1585",
   "metadata": {},
   "outputs": [
    {
     "name": "stdout",
     "output_type": "stream",
     "text": [
      "['t: 0.394862\\n', 'h: 32170.22']\n",
      "['t: 0.388974\\n', 'h: 33159.72']\n",
      "['t: 0.402195\\n', 'h: 33065.72']\n",
      "['time: 0.396174\\n', 'h: 33203.72']\n",
      "['time: 0.395940\\n', 'h: 32344.22']\n",
      "['time: 0.401481\\n', 'h: 33423.72']\n",
      "['time: 0.390738\\n', 'h: 32342.22']\n",
      "['time: 0.390862\\n', 'h: 33223.72']\n",
      "['time: 0.389749\\n', 'h: 33304.72\\n']\n",
      "['time: 0.401576\\n', 'h: 32455.22']\n",
      "time:  0.39525509999999997\n",
      "hip_vol:  32869.31999999999\n"
     ]
    }
   ],
   "source": [
    "seeds = [\"0.00042\", \"0.123\", \"0.00123\", \"0.00777\", \"0.00999\", \"0.02024\", \"0.08888\", \"0.27182\", \"0.31415\", \"0.98765\"]\n",
    "\n",
    "\n",
    "\n",
    "t = 0\n",
    "h = 0\n",
    "\n",
    "for seed in seeds:\n",
    "\n",
    "\n",
    "    file_path = os.path.join(seed, \"time.txt\")\n",
    "    f = open(file_path, \"r\")\n",
    "\n",
    "\n",
    "    lines = f.readlines()\n",
    "    print(lines)\n",
    "\n",
    "    t += float(lines[0].strip().split()[1])\n",
    "    h += float(lines[1].strip().split()[1])\n",
    "    \n",
    "\n",
    "print(\"time: \", t/10.0)\n",
    "print(\"hip_vol: \", h/10.0)\n"
   ]
  },
  {
   "cell_type": "code",
   "execution_count": null,
   "id": "0e940727",
   "metadata": {},
   "outputs": [],
   "source": []
  },
  {
   "cell_type": "code",
   "execution_count": null,
   "id": "09d64db4",
   "metadata": {},
   "outputs": [],
   "source": []
  }
 ],
 "metadata": {
  "kernelspec": {
   "display_name": "Python 3",
   "language": "python",
   "name": "python3"
  },
  "language_info": {
   "codemirror_mode": {
    "name": "ipython",
    "version": 3
   },
   "file_extension": ".py",
   "mimetype": "text/x-python",
   "name": "python",
   "nbconvert_exporter": "python",
   "pygments_lexer": "ipython3",
   "version": "3.13.3"
  }
 },
 "nbformat": 4,
 "nbformat_minor": 5
}
