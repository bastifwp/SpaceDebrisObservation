{
 "cells": [
  {
   "cell_type": "code",
   "execution_count": 6,
   "id": "81020772",
   "metadata": {},
   "outputs": [],
   "source": [
    "import numpy as np\n",
    "import os"
   ]
  },
  {
   "cell_type": "code",
   "execution_count": 7,
   "id": "f8bd83be",
   "metadata": {},
   "outputs": [],
   "source": [
    "def read_one(folder):\n",
    "    path = folder + \"/best_pop.out\"\n",
    "    rfile = open(path, \"r\")\n",
    "\n",
    "    data = []\n",
    "\n",
    "\n",
    "    flg = True\n",
    "    for line in rfile:\n",
    "\n",
    "        if flg:\n",
    "            flg = False\n",
    "            continue\n",
    "\n",
    "        #Ahora procesamos la info\n",
    "        info = line.strip().split()\n",
    "\n",
    "        tup = (int(float(info[0])), int(float(info[1])))\n",
    "\n",
    "        data.append(tup)\n",
    "\n",
    "\n",
    "    #Ahora guardamos sólo tuplas únicas\n",
    "    unique_data = []\n",
    "    for t in data:\n",
    "        if t not in unique_data:\n",
    "            unique_data.append(t)\n",
    "        \n",
    "    return unique_data\n",
    "\n"
   ]
  },
  {
   "cell_type": "code",
   "execution_count": 8,
   "id": "b7861b0f",
   "metadata": {},
   "outputs": [],
   "source": [
    "seeds = [\"0.00042\", \"0.123\", \"0.00123\", \"0.00777\", \"0.00999\", \"0.02024\", \"0.08888\", \"0.27182\", \"0.31415\", \"0.98765\"]\n",
    "\n",
    "all_values = []\n",
    "\n",
    "for seed in seeds:\n",
    "    values = read_one(seed)\n",
    "    all_values.append(values)"
   ]
  },
  {
   "cell_type": "code",
   "execution_count": 9,
   "id": "0a3bc115",
   "metadata": {},
   "outputs": [
    {
     "name": "stdout",
     "output_type": "stream",
     "text": [
      "MAX: -2 210\n",
      "pref: -1.8 231.0\n"
     ]
    }
   ],
   "source": [
    "#Creamos los archivos \n",
    "max_f1 = -1e9\n",
    "max_f2 = 0\n",
    "\n",
    "for i in range(len(seeds)):\n",
    "\n",
    "    #Ahora creamos un archivo y ponemos sus datos\n",
    "    folder = \"hv_small\"\n",
    "    os.makedirs(folder, exist_ok=True)\n",
    "\n",
    "    name =  seeds[i] + \".txt\"\n",
    "    file_path = os.path.join(folder, name)\n",
    "    new_file = open(file_path, \"w\") \n",
    "\n",
    "    #Escribimos sus datos\n",
    "    for t in all_values[i]:\n",
    "        f1, f2 = t\n",
    "    \n",
    "        if f1 > max_f1:\n",
    "            max_f1 = f1\n",
    "\n",
    "        if f2 > max_f2:\n",
    "            max_f2 = f2\n",
    "\n",
    "        new_file.write(str(f1) + \" \" + str(f2) + \"\\n\")\n",
    "\n",
    "    new_file.close()\n",
    "\n",
    "\n",
    "#También tenemos que buscar el máximo considerando los puntos de ampl\n",
    "f = open(\"ampl.txt\", \"r\")\n",
    "for line in f:\n",
    "\n",
    "    d = line.strip().split()\n",
    "    f1 = int(d[0])\n",
    "    f2 = int(d[1])\n",
    "\n",
    "    if f1 > max_f1:\n",
    "        max_f1 = f1\n",
    "\n",
    "    if f2 > max_f2:\n",
    "        max_f2 = f2\n",
    "\n",
    "f.close()\n",
    "\n",
    "\n",
    "\n",
    "print(\"MAX:\", max_f1, max_f2)\n",
    "print(\"pref:\", max_f1 - max_f1*0.1, max_f2 + max_f2*0.1)"
   ]
  },
  {
   "cell_type": "code",
   "execution_count": null,
   "id": "8fca6c0c",
   "metadata": {},
   "outputs": [],
   "source": []
  }
 ],
 "metadata": {
  "kernelspec": {
   "display_name": "Python 3",
   "language": "python",
   "name": "python3"
  },
  "language_info": {
   "codemirror_mode": {
    "name": "ipython",
    "version": 3
   },
   "file_extension": ".py",
   "mimetype": "text/x-python",
   "name": "python",
   "nbconvert_exporter": "python",
   "pygments_lexer": "ipython3",
   "version": "3.13.3"
  }
 },
 "nbformat": 4,
 "nbformat_minor": 5
}
