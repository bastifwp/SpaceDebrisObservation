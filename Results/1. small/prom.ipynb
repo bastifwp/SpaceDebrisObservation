{
 "cells": [
  {
   "cell_type": "code",
   "execution_count": 1,
   "id": "d6290c44",
   "metadata": {},
   "outputs": [],
   "source": [
    "import os"
   ]
  },
  {
   "cell_type": "code",
   "execution_count": 2,
   "id": "580c1585",
   "metadata": {},
   "outputs": [
    {
     "name": "stdout",
     "output_type": "stream",
     "text": [
      "['t: 0.030129\\n', 'hv: 1340.8']\n",
      "['t: 0.03337\\n', 'hv: 1340.8']\n",
      "['t: 0.031473\\n', 'hv: 1340.8']\n",
      "['t: 0.030170\\n', 'h: 1340.8']\n",
      "['t: 0.033095\\n', 'h: 1340.8']\n",
      "['t: 0.028972\\n', 'h: 1340.8\\n']\n",
      "['t: 0.030759\\n', 'h: 1340.8\\n']\n",
      "['t: 0.030599\\n', 'h: 1340.8']\n",
      "['t: 0.035818\\n', 'h: 1340.8']\n",
      "['t: 0.033685\\n', 'h: 1340.8\\n']\n",
      "time:  0.03180700000000001\n",
      "hip_vol:  1340.7999999999997\n"
     ]
    }
   ],
   "source": [
    "seeds = [\"0.00042\", \"0.123\", \"0.00123\", \"0.00777\", \"0.00999\", \"0.02024\", \"0.08888\", \"0.27182\", \"0.31415\", \"0.98765\"]\n",
    "\n",
    "\n",
    "\n",
    "t = 0\n",
    "h = 0\n",
    "\n",
    "for seed in seeds:\n",
    "\n",
    "\n",
    "    file_path = os.path.join(seed, \"time.txt\")\n",
    "    f = open(file_path, \"r\")\n",
    "\n",
    "\n",
    "    lines = f.readlines()\n",
    "    print(lines)\n",
    "\n",
    "    t += float(lines[0].strip().split()[1])\n",
    "    h += float(lines[1].strip().split()[1])\n",
    "    \n",
    "\n",
    "print(\"time: \", t/10.0)\n",
    "print(\"hip_vol: \", h/10.0)\n"
   ]
  },
  {
   "cell_type": "code",
   "execution_count": null,
   "id": "0e940727",
   "metadata": {},
   "outputs": [],
   "source": []
  },
  {
   "cell_type": "code",
   "execution_count": null,
   "id": "09d64db4",
   "metadata": {},
   "outputs": [],
   "source": []
  }
 ],
 "metadata": {
  "kernelspec": {
   "display_name": "Python 3",
   "language": "python",
   "name": "python3"
  },
  "language_info": {
   "codemirror_mode": {
    "name": "ipython",
    "version": 3
   },
   "file_extension": ".py",
   "mimetype": "text/x-python",
   "name": "python",
   "nbconvert_exporter": "python",
   "pygments_lexer": "ipython3",
   "version": "3.13.3"
  }
 },
 "nbformat": 4,
 "nbformat_minor": 5
}
